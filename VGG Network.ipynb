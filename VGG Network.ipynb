{
 "cells": [
  {
   "cell_type": "markdown",
   "metadata": {},
   "source": [
    "# Create a VGG Network\n",
    "build a class that implements a **VGG network** and then train it to classify images. The model will look something like this:\n",
    "\n",
    "![](image.jpg)\n"
   ]
  },
  {
   "cell_type": "code",
   "execution_count": 1,
   "metadata": {},
   "outputs": [],
   "source": [
    "#Import\n",
    "import tensorflow as tf\n",
    "import tensorflow_datasets as tfds\n",
    "import utils"
   ]
  },
  {
   "cell_type": "code",
   "execution_count": 2,
   "metadata": {},
   "outputs": [],
   "source": [
    "# Create a Generic Block. \n",
    "\n",
    "class Block(tf.keras.Model):\n",
    "    def __init__(self,filters,kernel_size,iteration,pool_size=2,strides=2):\n",
    "        super(Block,self).__init__()\n",
    "        self.filters= filters\n",
    "        self.kernel_size= kernel_size\n",
    "        self.iteration = iteration\n",
    "        for m in range(iteration):\n",
    "            vars(self)[f\"conv2D_{m}\"]= tf.keras.layers.Conv2D(filters,kernel_size,activation=\"relu\",padding=\"same\")\n",
    "        self.MaxPool2D= tf.keras.layers.MaxPool2D(pool_size,strides)\n",
    "        \n",
    "    # in this call you will connect the layer together.\n",
    "    def call(self,inputs):\n",
    "        conv2D_0= self.conv2D_0\n",
    "        x= conv2D_0(inputs)\n",
    "        for w in range(1,self.iteration):\n",
    "            conv= vars(self)[f\"conv2D{w}\"]\n",
    "            x= conv(x)\n",
    "        x=self.MaxPool2D(x)\n",
    "        return x\n",
    "        \n",
    "        "
   ]
  },
  {
   "cell_type": "code",
   "execution_count": 3,
   "metadata": {},
   "outputs": [],
   "source": [
    "# Create the Custom VGG network\n",
    "\n",
    "class VGG(tf.keras.Model):\n",
    "    def __init__(self,name_cam):\n",
    "        super(VGG,self).__init__()\n",
    "        self.block_a= Block(64,3,2)\n",
    "        self.block_b= Block(128,3,2)\n",
    "        self.block_c= Block(256,3,3)\n",
    "        self.block_d= Block(512,3,3)\n",
    "        self.block_e= Block(512,3,3)\n",
    "        self.flatten= tf.keras.layers.Flatten()\n",
    "        self.Dense= tf.keras.layers.Dense(256,activation=\"relu\")\n",
    "        self.clas= tf.keras.layers.Dense(name_cam,activation=\"softmax\")\n",
    "        \n",
    "    def calls(self,inp):\n",
    "        x= inp\n",
    "        x=self.block_a(x)\n",
    "        x=self.block_b(x)\n",
    "        x=self.block_c(x)\n",
    "        x=self.block_d(x)\n",
    "        x=self.block_e(x)\n",
    "        x= self.flatten(x)\n",
    "        x=self.Dense(x)\n",
    "        x= self.clas(x)\n",
    "        return x\n",
    "        "
   ]
  }
 ],
 "metadata": {
  "kernelspec": {
   "display_name": "Python 3",
   "language": "python",
   "name": "python3"
  },
  "language_info": {
   "codemirror_mode": {
    "name": "ipython",
    "version": 3
   },
   "file_extension": ".py",
   "mimetype": "text/x-python",
   "name": "python",
   "nbconvert_exporter": "python",
   "pygments_lexer": "ipython3",
   "version": "3.7.9"
  }
 },
 "nbformat": 4,
 "nbformat_minor": 4
}
